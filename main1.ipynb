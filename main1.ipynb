{
 "cells": [
  {
   "cell_type": "code",
   "execution_count": 14,
   "metadata": {},
   "outputs": [
    {
     "name": "stdout",
     "output_type": "stream",
     "text": [
      "Введите коэффициенты для уравнения ax^2 + bx + c = 0:\n",
      "Дискрименант D = 0.00\n",
      "x = -1.00\n"
     ]
    }
   ],
   "source": [
    "# 1. Корни квадратного уравнения\n",
    "\n",
    "print(\"Введите коэффициенты для уравнения ax^2 + bx + c = 0:\")\n",
    "\n",
    "a = float(input(\"a = \"))\n",
    "b = float(input(\"b = \"))\n",
    "c = float(input(\"c = \"))\n",
    "\n",
    "D = (b*b) - (4 * a * c)\n",
    "print(f\"Дискрименант D = {D:.2f}\")\n",
    "\n",
    "if D > 0:\n",
    "    x1 = (-b + (D ** 0.5))/(2 * a)\n",
    "    x2 = (-b - (D ** 0.5))/(2 * a)\n",
    "    print(f\"x1 = {x1:.2f}\\nx2 = {x2:.2f}\")\n",
    "elif D == 0:\n",
    "    x = (-b)/(2 * a)\n",
    "    print(f\"x = {x:.2f}\")\n",
    "elif D < 0:\n",
    "    print(\"Кореней нет\")\n"
   ]
  },
  {
   "cell_type": "code",
   "execution_count": 20,
   "metadata": {},
   "outputs": [
    {
     "name": "stdout",
     "output_type": "stream",
     "text": [
      "5243\n"
     ]
    }
   ],
   "source": [
    "# 2. Обратное число\n",
    "\n",
    "x = int(input())\n",
    "reversed_x = int(str(x)[::-1])\n",
    "print(f\"{reversed_x}\")\n",
    "\n"
   ]
  },
  {
   "cell_type": "code",
   "execution_count": 4,
   "metadata": {},
   "outputs": [
    {
     "name": "stdout",
     "output_type": "stream",
     "text": [
      "[10, 20, 30, 40, 50]\n"
     ]
    }
   ],
   "source": [
    "# 3. Долой дубли\n",
    "\n",
    "list1 = [10, 20, 10, 20, 30, 40, 30, 50]\n",
    "list2 = sorted(set(list1))\n",
    "print(list2)"
   ]
  },
  {
   "cell_type": "code",
   "execution_count": 8,
   "metadata": {},
   "outputs": [
    {
     "name": "stdout",
     "output_type": "stream",
     "text": [
      "one*two*three*four*f*ve*six*seven\n"
     ]
    }
   ],
   "source": [
    "# 4. Разобрать и собрать строку\n",
    "\n",
    "text = input(\"Введите вашу строку: \")\n",
    "new_text = \"*\".join(text.strip().split())\n",
    "\n",
    "print(new_text)\n",
    "        \n",
    "\n"
   ]
  },
  {
   "cell_type": "code",
   "execution_count": 1,
   "metadata": {},
   "outputs": [
    {
     "name": "stdout",
     "output_type": "stream",
     "text": [
      "70\n"
     ]
    }
   ],
   "source": [
    "# 5. Скалярное произведение векторов\n",
    "\n",
    "a = [1, 2, 3, 4]\n",
    "b = [5, 6, 7, 8]\n",
    "c = 0\n",
    "for i in range(len(a)):\n",
    "    c += a[i] * b[i]\n",
    "print(c)\n"
   ]
  }
 ],
 "metadata": {
  "kernelspec": {
   "display_name": "Python 3",
   "language": "python",
   "name": "python3"
  },
  "language_info": {
   "codemirror_mode": {
    "name": "ipython",
    "version": 3
   },
   "file_extension": ".py",
   "mimetype": "text/x-python",
   "name": "python",
   "nbconvert_exporter": "python",
   "pygments_lexer": "ipython3",
   "version": "3.12.4"
  }
 },
 "nbformat": 4,
 "nbformat_minor": 2
}
